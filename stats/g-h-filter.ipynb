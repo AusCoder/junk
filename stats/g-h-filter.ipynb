{
 "cells": [
  {
   "cell_type": "markdown",
   "metadata": {},
   "source": [
    "# G H Filter\n",
    "\n",
    "Implements a simple g h filter, with fixed g and h (I think that is the correct terminology)."
   ]
  },
  {
   "cell_type": "code",
   "execution_count": null,
   "metadata": {},
   "outputs": [],
   "source": [
    "%matplotlib inline"
   ]
  },
  {
   "cell_type": "code",
   "execution_count": null,
   "metadata": {},
   "outputs": [],
   "source": [
    "import numpy as np\n",
    "import matplotlib.pyplot as plt"
   ]
  },
  {
   "cell_type": "markdown",
   "metadata": {},
   "source": [
    "### Implementation"
   ]
  },
  {
   "cell_type": "code",
   "execution_count": null,
   "metadata": {},
   "outputs": [],
   "source": [
    "def g_h_filter(data, x0, dx, g, h, dt):\n",
    "    \"\"\"\n",
    "    Performs g-h filter on 1 state variable with a fixed g and h.\n",
    "\n",
    "    'data' contains the data to be filtered.\n",
    "    'x0' is the initial value for our state variable\n",
    "    'dx' is the initial change rate for our state variable\n",
    "    'g' is the g-h's g scale factor\n",
    "    'h' is the g-h's h scale factor\n",
    "    'dt' is the length of the time step \n",
    "    \"\"\"\n",
    "    estimates = np.empty(len(data) + 1, dtype=float)\n",
    "    predictions = np.empty(len(data), dtype=float)\n",
    "    \n",
    "    current_estimate = x0\n",
    "    current_rate_estimate = dx\n",
    "    estimates[0] = current_estimate\n",
    "\n",
    "    for i, measurement in enumerate(data):\n",
    "        prediction = current_estimate + current_rate_estimate * dt\n",
    "    \n",
    "        current_estimate = prediction + g * (measurement - prediction)\n",
    "        current_rate_estimate = current_rate_estimate + h * (measurement - prediction) / dt\n",
    "\n",
    "        estimates[i + 1] = current_estimate\n",
    "        predictions[i] = prediction\n",
    "    \n",
    "    return estimates, predictions"
   ]
  },
  {
   "cell_type": "markdown",
   "metadata": {},
   "source": [
    "### Example\n",
    "\n",
    "Imagine measuring your weight over a series of days using an inaccurate scale. What can we say about your weight into the future?\n",
    "\n",
    "There are several bits to this puzzle:\n",
    "* A model of the system: Your weight changes at a certain weight every day\n",
    "* Measurements: The weight readings we get from the inaccurate scale\n",
    "* Predictions: A prediction of the future weight based on the current weight and current rate of change of weight\n",
    "* The hidden actual value: The actual value for the weight, we never actually know"
   ]
  },
  {
   "cell_type": "code",
   "execution_count": null,
   "metadata": {},
   "outputs": [],
   "source": [
    "measured_weights = [158.0, 164.2, 160.3, 159.9, 162.1, 164.6, \n",
    "                   169.6, 167.4, 166.4, 171.0, 171.2, 172.6]\n",
    "\n",
    "initial_estimate = 160\n",
    "initial_rate_estimate = -1\n",
    "\n",
    "timestep = 1\n",
    "\n",
    "g = 4 / 10\n",
    "h = 1 / 3\n",
    "\n",
    "estimates, predictions = g_h_filter(\n",
    "    data=measured_weights, x0=initial_estimate, dx=initial_rate_estimate, g=g, h=h, dt=timestep\n",
    ")"
   ]
  },
  {
   "cell_type": "code",
   "execution_count": null,
   "metadata": {},
   "outputs": [],
   "source": [
    "xs = np.arange(0, len(estimates))\n",
    "\n",
    "actual_initial_value = initial_estimate\n",
    "actual_rate = 1\n",
    "hidden_values = np.array([actual_initial_value + t * actual_rate for t in xs])\n",
    "\n",
    "plt.scatter(xs, estimates)\n",
    "plt.scatter(xs[1:], predictions)\n",
    "plt.plot(xs, hidden_values, color=\"grey\")"
   ]
  },
  {
   "cell_type": "code",
   "execution_count": null,
   "metadata": {},
   "outputs": [],
   "source": []
  }
 ],
 "metadata": {
  "kernelspec": {
   "display_name": "Python 3",
   "language": "python",
   "name": "python3"
  },
  "language_info": {
   "codemirror_mode": {
    "name": "ipython",
    "version": 3
   },
   "file_extension": ".py",
   "mimetype": "text/x-python",
   "name": "python",
   "nbconvert_exporter": "python",
   "pygments_lexer": "ipython3",
   "version": "3.7.8"
  }
 },
 "nbformat": 4,
 "nbformat_minor": 4
}
